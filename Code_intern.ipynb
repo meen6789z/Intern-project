{
 "cells": [
  {
   "cell_type": "code",
   "execution_count": 1,
   "id": "f9f42305",
   "metadata": {},
   "outputs": [
    {
     "ename": "ModuleNotFoundError",
     "evalue": "No module named 'google'",
     "output_type": "error",
     "traceback": [
      "\u001b[1;31m---------------------------------------------------------------------------\u001b[0m",
      "\u001b[1;31mModuleNotFoundError\u001b[0m                       Traceback (most recent call last)",
      "Cell \u001b[1;32mIn[1], line 1\u001b[0m\n\u001b[1;32m----> 1\u001b[0m \u001b[38;5;28;01mfrom\u001b[39;00m \u001b[38;5;21;01mgoogle\u001b[39;00m\u001b[38;5;21;01m.\u001b[39;00m\u001b[38;5;21;01mcolab\u001b[39;00m \u001b[38;5;28;01mimport\u001b[39;00m drive\n\u001b[0;32m      2\u001b[0m drive\u001b[38;5;241m.\u001b[39mmount(\u001b[38;5;124m'\u001b[39m\u001b[38;5;124m/content/drive\u001b[39m\u001b[38;5;124m'\u001b[39m)\n",
      "\u001b[1;31mModuleNotFoundError\u001b[0m: No module named 'google'"
     ]
    }
   ],
   "source": [
    "from google.colab import drive\n",
    "drive.mount('/content/drive')"
   ]
  },
  {
   "cell_type": "code",
   "execution_count": null,
   "id": "22284a76",
   "metadata": {},
   "outputs": [],
   "source": [
    "#ฟังชันในการหาคำที่เหมือนกันและลบออก\n",
    "import pandas as pd\n",
    "from fuzzywuzzy import fuzz\n",
    "from fuzzywuzzy import process\n",
    "\n",
    "df1 = pd.DataFrame({'Name': ['Apple', 'Banana', 'Can']})\n",
    "df2 = pd.DataFrame({'Name': ['Apple','Apple.', 'BANANA', 'Cans', 'D', 'E']})\n",
    "\n",
    "# ลบชื่อที่ตรงกันจาก df2\n",
    "df2 = df2[~df2['Name'].isin(df1['Name'])]\n",
    "\n",
    "# ฟังก์ชันเพื่อหาและจัดเก็บชื่อที่คล้ายกัน\n",
    "def find_similar_names(df1, df2):\n",
    "    similar_names = []\n",
    "    for name in df2['Name']:\n",
    "        match = process.extractOne(name, df1['Name'], scorer=fuzz.partial_ratio)\n",
    "        if match[1] >= 80:  # เกณฑ์ความคล้าย (สามารถปรับได้ตามต้องการ)\n",
    "            similar_names.append([name, match[0]])\n",
    "    return similar_names\n",
    "\n",
    "# สร้าง DataFrame ใหม่ df3\n",
    "similar_names = find_similar_names(df1, df2)\n",
    "df3 = pd.DataFrame(similar_names, columns=['Name_in_df2', 'Similar_Name_in_df1'])\n",
    "\n",
    "print(\"df2 after removing exact matches:\")\n",
    "print(df2)\n",
    "print(\"\\ndf3 with similar names:\")\n",
    "print(df3)\n"
   ]
  },
  {
   "cell_type": "code",
   "execution_count": null,
   "id": "34495918",
   "metadata": {},
   "outputs": [],
   "source": [
    "#ฟังชันในการกรองข้อมูลว่าจะเอาข้อมูลถึงแค่เวลาไหน\n",
    "data['expirydate'] = pd.to_datetime(data['expirydate'])\n",
    "latest_expiry_dates = data.loc[data.groupby('Insure Name')['expirydate'].idxmax()]\n",
    "\n",
    "cutoff_date = pd.to_datetime('2023-04-30')\n",
    "latest_expiry_dates['IsCustomer'] = latest_expiry_dates['expirydate'] > cutoff_date\n",
    "data_filtered = data[data['Insure Name'].isin(latest_expiry_dates['Insure Name'])]\n",
    "\n",
    "SaleP_education_2023 = data_filtered[data_filtered['yearmonth_year'] == 2023]\n",
    "SaleP_education_2024 = data_filtered[data_filtered['yearmonth_year'] == 2024]"
   ]
  },
  {
   "cell_type": "code",
   "execution_count": null,
   "id": "c097e382",
   "metadata": {},
   "outputs": [],
   "source": [
    "#ฟังชันในการลบตัวเลขออกจากข้อมูล\n",
    "import re\n",
    "\n",
    "def remove_digits(text):\n",
    "  result = re.sub(r'\\d', '', text)\n",
    "  return result\n",
    "data['Insure Name'] = data['Insure Name'].apply(remove_digits)"
   ]
  },
  {
   "cell_type": "code",
   "execution_count": null,
   "id": "047bdecf",
   "metadata": {},
   "outputs": [],
   "source": [
    "data['Insure Name'] = data['Insure Name'].str.replace('มหาชน', '')"
   ]
  },
  {
   "cell_type": "code",
   "execution_count": null,
   "id": "3cfb93ef",
   "metadata": {},
   "outputs": [],
   "source": [
    "#ลบคำในช่องวงเล็บ พร้อมกับวงเล็บ\n",
    "import re\n",
    "def remove_parentheses(text):\n",
    "    return re.sub(r'\\s*\\(.*?\\)\\s*', '', text)\n",
    "text = \"This is a sample text (with some parentheses).\"\n",
    "cleaned_text = remove_parentheses(text)\n",
    "print(cleaned_text)"
   ]
  },
  {
   "cell_type": "code",
   "execution_count": null,
   "id": "fc73c55f",
   "metadata": {},
   "outputs": [],
   "source": [
    "#ฟังชันในการเปลี่ยนชื่อคอลัม\n",
    "#ชื่อเดิม : ชื่อใหม่\n",
    "x = x.rename(columns={'BusinessCode': 'Business_Code'})"
   ]
  },
  {
   "cell_type": "code",
   "execution_count": null,
   "id": "0c54ebd3",
   "metadata": {},
   "outputs": [],
   "source": [
    "def check_and_add_column(df1, df2):\n",
    "    # สร้างคอลัมน์ใหม่ชื่อ 'name_check' ใน df2 โดยมีค่าเป็น True หรือ False\n",
    "    df2['name_check'] = df2['Insure Name'].isin(df1['Insure Name'])\n",
    "\n",
    "    # สร้างคอลัมน์ใหม่ชื่อ 'result' ใน df2\n",
    "    df2['result'] = df2['Insure Name'].apply(lambda x: x if x in df1['Insure Name'].values else 'ไม่ตรงกัน')\n",
    "\n",
    "    return df2\n",
    "\n",
    "ฃdf2_result = check_and_add_column(df3, df2)"
   ]
  }
 ],
 "metadata": {
  "kernelspec": {
   "display_name": "Python 3",
   "language": "python",
   "name": "python3"
  },
  "language_info": {
   "codemirror_mode": {
    "name": "ipython",
    "version": 3
   },
   "file_extension": ".py",
   "mimetype": "text/x-python",
   "name": "python",
   "nbconvert_exporter": "python",
   "pygments_lexer": "ipython3",
   "version": "3.11.0"
  }
 },
 "nbformat": 4,
 "nbformat_minor": 5
}
